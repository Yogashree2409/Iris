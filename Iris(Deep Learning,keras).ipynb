{
 "cells": [
  {
   "cell_type": "code",
   "execution_count": 1,
   "id": "80ed0433",
   "metadata": {},
   "outputs": [],
   "source": [
    "import pandas as pd\n",
    "import numpy as np\n",
    "import seaborn as sns\n",
    "import matplotlib.pyplot as plt\n",
    "from scipy import stats\n",
    "import statsmodels.api as  sm"
   ]
  },
  {
   "cell_type": "code",
   "execution_count": 2,
   "id": "8d705a44",
   "metadata": {},
   "outputs": [
    {
     "data": {
      "text/html": [
       "<div>\n",
       "<style scoped>\n",
       "    .dataframe tbody tr th:only-of-type {\n",
       "        vertical-align: middle;\n",
       "    }\n",
       "\n",
       "    .dataframe tbody tr th {\n",
       "        vertical-align: top;\n",
       "    }\n",
       "\n",
       "    .dataframe thead th {\n",
       "        text-align: right;\n",
       "    }\n",
       "</style>\n",
       "<table border=\"1\" class=\"dataframe\">\n",
       "  <thead>\n",
       "    <tr style=\"text-align: right;\">\n",
       "      <th></th>\n",
       "      <th>sepal.length</th>\n",
       "      <th>sepal.width</th>\n",
       "      <th>petal.length</th>\n",
       "      <th>petal.width</th>\n",
       "      <th>variety</th>\n",
       "    </tr>\n",
       "  </thead>\n",
       "  <tbody>\n",
       "    <tr>\n",
       "      <th>0</th>\n",
       "      <td>5.1</td>\n",
       "      <td>3.5</td>\n",
       "      <td>1.4</td>\n",
       "      <td>0.2</td>\n",
       "      <td>Setosa</td>\n",
       "    </tr>\n",
       "    <tr>\n",
       "      <th>1</th>\n",
       "      <td>4.9</td>\n",
       "      <td>3.0</td>\n",
       "      <td>1.4</td>\n",
       "      <td>0.2</td>\n",
       "      <td>Setosa</td>\n",
       "    </tr>\n",
       "    <tr>\n",
       "      <th>2</th>\n",
       "      <td>4.7</td>\n",
       "      <td>3.2</td>\n",
       "      <td>1.3</td>\n",
       "      <td>0.2</td>\n",
       "      <td>Setosa</td>\n",
       "    </tr>\n",
       "    <tr>\n",
       "      <th>3</th>\n",
       "      <td>4.6</td>\n",
       "      <td>3.1</td>\n",
       "      <td>1.5</td>\n",
       "      <td>0.2</td>\n",
       "      <td>Setosa</td>\n",
       "    </tr>\n",
       "    <tr>\n",
       "      <th>4</th>\n",
       "      <td>5.0</td>\n",
       "      <td>3.6</td>\n",
       "      <td>1.4</td>\n",
       "      <td>0.2</td>\n",
       "      <td>Setosa</td>\n",
       "    </tr>\n",
       "  </tbody>\n",
       "</table>\n",
       "</div>"
      ],
      "text/plain": [
       "   sepal.length  sepal.width  petal.length  petal.width variety\n",
       "0           5.1          3.5           1.4          0.2  Setosa\n",
       "1           4.9          3.0           1.4          0.2  Setosa\n",
       "2           4.7          3.2           1.3          0.2  Setosa\n",
       "3           4.6          3.1           1.5          0.2  Setosa\n",
       "4           5.0          3.6           1.4          0.2  Setosa"
      ]
     },
     "execution_count": 2,
     "metadata": {},
     "output_type": "execute_result"
    }
   ],
   "source": [
    "data=pd.read_csv(\"https://gist.githubusercontent.com/netj/8836201/raw/6f9306ad21398ea43cba4f7d537619d0e07d5ae3/iris.csv\")\n",
    "data.head()"
   ]
  },
  {
   "cell_type": "code",
   "execution_count": 3,
   "id": "d5b60038",
   "metadata": {},
   "outputs": [
    {
     "data": {
      "text/html": [
       "<div>\n",
       "<style scoped>\n",
       "    .dataframe tbody tr th:only-of-type {\n",
       "        vertical-align: middle;\n",
       "    }\n",
       "\n",
       "    .dataframe tbody tr th {\n",
       "        vertical-align: top;\n",
       "    }\n",
       "\n",
       "    .dataframe thead th {\n",
       "        text-align: right;\n",
       "    }\n",
       "</style>\n",
       "<table border=\"1\" class=\"dataframe\">\n",
       "  <thead>\n",
       "    <tr style=\"text-align: right;\">\n",
       "      <th></th>\n",
       "      <th>sepal.length</th>\n",
       "      <th>sepal.width</th>\n",
       "      <th>petal.length</th>\n",
       "      <th>petal.width</th>\n",
       "      <th>variety</th>\n",
       "    </tr>\n",
       "  </thead>\n",
       "  <tbody>\n",
       "    <tr>\n",
       "      <th>145</th>\n",
       "      <td>6.7</td>\n",
       "      <td>3.0</td>\n",
       "      <td>5.2</td>\n",
       "      <td>2.3</td>\n",
       "      <td>Virginica</td>\n",
       "    </tr>\n",
       "    <tr>\n",
       "      <th>146</th>\n",
       "      <td>6.3</td>\n",
       "      <td>2.5</td>\n",
       "      <td>5.0</td>\n",
       "      <td>1.9</td>\n",
       "      <td>Virginica</td>\n",
       "    </tr>\n",
       "    <tr>\n",
       "      <th>147</th>\n",
       "      <td>6.5</td>\n",
       "      <td>3.0</td>\n",
       "      <td>5.2</td>\n",
       "      <td>2.0</td>\n",
       "      <td>Virginica</td>\n",
       "    </tr>\n",
       "    <tr>\n",
       "      <th>148</th>\n",
       "      <td>6.2</td>\n",
       "      <td>3.4</td>\n",
       "      <td>5.4</td>\n",
       "      <td>2.3</td>\n",
       "      <td>Virginica</td>\n",
       "    </tr>\n",
       "    <tr>\n",
       "      <th>149</th>\n",
       "      <td>5.9</td>\n",
       "      <td>3.0</td>\n",
       "      <td>5.1</td>\n",
       "      <td>1.8</td>\n",
       "      <td>Virginica</td>\n",
       "    </tr>\n",
       "  </tbody>\n",
       "</table>\n",
       "</div>"
      ],
      "text/plain": [
       "     sepal.length  sepal.width  petal.length  petal.width    variety\n",
       "145           6.7          3.0           5.2          2.3  Virginica\n",
       "146           6.3          2.5           5.0          1.9  Virginica\n",
       "147           6.5          3.0           5.2          2.0  Virginica\n",
       "148           6.2          3.4           5.4          2.3  Virginica\n",
       "149           5.9          3.0           5.1          1.8  Virginica"
      ]
     },
     "execution_count": 3,
     "metadata": {},
     "output_type": "execute_result"
    }
   ],
   "source": [
    "data.tail()"
   ]
  },
  {
   "cell_type": "code",
   "execution_count": 4,
   "id": "a67ad31f",
   "metadata": {},
   "outputs": [
    {
     "data": {
      "text/plain": [
       "count        150\n",
       "unique         3\n",
       "top       Setosa\n",
       "freq          50\n",
       "Name: variety, dtype: object"
      ]
     },
     "execution_count": 4,
     "metadata": {},
     "output_type": "execute_result"
    }
   ],
   "source": [
    "data.variety.describe()"
   ]
  },
  {
   "cell_type": "code",
   "execution_count": 5,
   "id": "b9e4dd3c",
   "metadata": {},
   "outputs": [],
   "source": [
    "Y=data.variety"
   ]
  },
  {
   "cell_type": "code",
   "execution_count": 6,
   "id": "dfdb61fd",
   "metadata": {},
   "outputs": [],
   "source": [
    "data.rename(columns={'sepal.length':'slength', 'sepal.width':'swidth', 'petal.length':'plength', 'petal.width':'pwidth'},inplace=True)"
   ]
  },
  {
   "cell_type": "code",
   "execution_count": 7,
   "id": "2c6bcdb1",
   "metadata": {},
   "outputs": [],
   "source": [
    "X=data.drop('variety',axis=1)"
   ]
  },
  {
   "cell_type": "markdown",
   "id": "3224e066",
   "metadata": {},
   "source": [
    "<H6>\n",
    "Label Encoding\n",
    "<H6>"
   ]
  },
  {
   "cell_type": "code",
   "execution_count": 181,
   "id": "c206338c",
   "metadata": {},
   "outputs": [],
   "source": [
    "from sklearn import preprocessing\n",
    "label_encoder = preprocessing.LabelEncoder()"
   ]
  },
  {
   "cell_type": "code",
   "execution_count": null,
   "id": "ab89fa58",
   "metadata": {},
   "outputs": [],
   "source": []
  },
  {
   "cell_type": "code",
   "execution_count": 182,
   "id": "7f3b1b12",
   "metadata": {},
   "outputs": [],
   "source": [
    "Y=label_encoder.fit_transform(Y)"
   ]
  },
  {
   "cell_type": "markdown",
   "id": "6a5e9e97",
   "metadata": {},
   "source": [
    "<H6>\n",
    "Keras model\n",
    "<H6>"
   ]
  },
  {
   "cell_type": "code",
   "execution_count": 183,
   "id": "36cf1726",
   "metadata": {},
   "outputs": [],
   "source": [
    "from keras.models import Sequential\n",
    "from tensorflow.keras import layers"
   ]
  },
  {
   "cell_type": "code",
   "execution_count": 184,
   "id": "b8415d62",
   "metadata": {},
   "outputs": [],
   "source": [
    "model=Sequential()\n",
    "model.add(layers.Dense(8,input_dim=4,activation='relu'))\n",
    "model.add(layers.Dense(32,activation='relu'))\n",
    "model.add(layers.Dense(3,activation='relu'))"
   ]
  },
  {
   "cell_type": "code",
   "execution_count": 185,
   "id": "c2a3ad87",
   "metadata": {},
   "outputs": [],
   "source": [
    "model.compile(loss='binary_crossentropy',optimizer='adam',metrics=['accuracy'])"
   ]
  },
  {
   "cell_type": "code",
   "execution_count": 186,
   "id": "7750a909",
   "metadata": {},
   "outputs": [
    {
     "name": "stdout",
     "output_type": "stream",
     "text": [
      "Epoch 1/50\n",
      "5/5 [==============================] - 2s 8ms/step - loss: 1.9153 - accuracy: 0.3333\n",
      "Epoch 2/50\n",
      "5/5 [==============================] - 0s 8ms/step - loss: 1.8449 - accuracy: 0.5067\n",
      "Epoch 3/50\n",
      "5/5 [==============================] - 0s 12ms/step - loss: 1.8212 - accuracy: 0.3467\n",
      "Epoch 4/50\n",
      "5/5 [==============================] - 0s 8ms/step - loss: 1.8051 - accuracy: 0.3333\n",
      "Epoch 5/50\n",
      "5/5 [==============================] - 0s 8ms/step - loss: 1.7925 - accuracy: 0.3333\n",
      "Epoch 6/50\n",
      "5/5 [==============================] - 0s 8ms/step - loss: 1.7814 - accuracy: 0.3333\n",
      "Epoch 7/50\n",
      "5/5 [==============================] - 0s 12ms/step - loss: 1.7728 - accuracy: 0.3333\n",
      "Epoch 8/50\n",
      "5/5 [==============================] - 0s 4ms/step - loss: 1.7657 - accuracy: 0.4133\n",
      "Epoch 9/50\n",
      "5/5 [==============================] - 0s 12ms/step - loss: 1.7613 - accuracy: 0.5267\n",
      "Epoch 10/50\n",
      "5/5 [==============================] - 0s 8ms/step - loss: 1.7593 - accuracy: 0.6133\n",
      "Epoch 11/50\n",
      "5/5 [==============================] - 0s 8ms/step - loss: 1.7580 - accuracy: 0.6200\n",
      "Epoch 12/50\n",
      "5/5 [==============================] - 0s 8ms/step - loss: 1.7569 - accuracy: 0.6267\n",
      "Epoch 13/50\n",
      "5/5 [==============================] - 0s 8ms/step - loss: 1.7563 - accuracy: 0.6267\n",
      "Epoch 14/50\n",
      "5/5 [==============================] - 0s 12ms/step - loss: 1.7559 - accuracy: 0.6267\n",
      "Epoch 15/50\n",
      "5/5 [==============================] - 0s 12ms/step - loss: 1.7556 - accuracy: 0.6133\n",
      "Epoch 16/50\n",
      "5/5 [==============================] - 0s 12ms/step - loss: 1.7552 - accuracy: 0.6133\n",
      "Epoch 17/50\n",
      "5/5 [==============================] - 0s 8ms/step - loss: 1.7550 - accuracy: 0.6267\n",
      "Epoch 18/50\n",
      "5/5 [==============================] - 0s 8ms/step - loss: 1.7547 - accuracy: 0.6333\n",
      "Epoch 19/50\n",
      "5/5 [==============================] - 0s 8ms/step - loss: 1.7545 - accuracy: 0.6267\n",
      "Epoch 20/50\n",
      "5/5 [==============================] - 0s 4ms/step - loss: 1.7544 - accuracy: 0.6267\n",
      "Epoch 21/50\n",
      "5/5 [==============================] - 0s 8ms/step - loss: 1.7542 - accuracy: 0.6467\n",
      "Epoch 22/50\n",
      "5/5 [==============================] - 0s 8ms/step - loss: 1.7542 - accuracy: 0.6600\n",
      "Epoch 23/50\n",
      "5/5 [==============================] - 0s 8ms/step - loss: 1.7540 - accuracy: 0.6733\n",
      "Epoch 24/50\n",
      "5/5 [==============================] - 0s 4ms/step - loss: 1.7539 - accuracy: 0.7267\n",
      "Epoch 25/50\n",
      "5/5 [==============================] - 0s 12ms/step - loss: 1.7538 - accuracy: 0.8000\n",
      "Epoch 26/50\n",
      "5/5 [==============================] - 0s 12ms/step - loss: 1.7538 - accuracy: 0.8267\n",
      "Epoch 27/50\n",
      "5/5 [==============================] - 0s 12ms/step - loss: 1.7537 - accuracy: 0.8267\n",
      "Epoch 28/50\n",
      "5/5 [==============================] - 0s 8ms/step - loss: 1.7536 - accuracy: 0.8067\n",
      "Epoch 29/50\n",
      "5/5 [==============================] - 0s 8ms/step - loss: 1.7535 - accuracy: 0.7000\n",
      "Epoch 30/50\n",
      "5/5 [==============================] - 0s 12ms/step - loss: 1.7534 - accuracy: 0.6667\n",
      "Epoch 31/50\n",
      "5/5 [==============================] - 0s 8ms/step - loss: 1.7534 - accuracy: 0.6867\n",
      "Epoch 32/50\n",
      "5/5 [==============================] - 0s 12ms/step - loss: 1.7534 - accuracy: 0.7000\n",
      "Epoch 33/50\n",
      "5/5 [==============================] - 0s 8ms/step - loss: 1.7533 - accuracy: 0.7733\n",
      "Epoch 34/50\n",
      "5/5 [==============================] - 0s 12ms/step - loss: 1.7533 - accuracy: 0.7733\n",
      "Epoch 35/50\n",
      "5/5 [==============================] - 0s 8ms/step - loss: 1.7533 - accuracy: 0.7267\n",
      "Epoch 36/50\n",
      "5/5 [==============================] - 0s 12ms/step - loss: 1.7533 - accuracy: 0.6867\n",
      "Epoch 37/50\n",
      "5/5 [==============================] - 0s 8ms/step - loss: 1.7532 - accuracy: 0.6867\n",
      "Epoch 38/50\n",
      "5/5 [==============================] - 0s 4ms/step - loss: 1.7532 - accuracy: 0.6667\n",
      "Epoch 39/50\n",
      "5/5 [==============================] - 0s 12ms/step - loss: 1.7532 - accuracy: 0.6667\n",
      "Epoch 40/50\n",
      "5/5 [==============================] - 0s 8ms/step - loss: 1.7532 - accuracy: 0.6800\n",
      "Epoch 41/50\n",
      "5/5 [==============================] - 0s 12ms/step - loss: 1.7532 - accuracy: 0.6667\n",
      "Epoch 42/50\n",
      "5/5 [==============================] - 0s 8ms/step - loss: 1.7532 - accuracy: 0.6533\n",
      "Epoch 43/50\n",
      "5/5 [==============================] - 0s 12ms/step - loss: 1.7531 - accuracy: 0.6533\n",
      "Epoch 44/50\n",
      "5/5 [==============================] - 0s 8ms/step - loss: 1.7531 - accuracy: 0.6600\n",
      "Epoch 45/50\n",
      "5/5 [==============================] - 0s 8ms/step - loss: 1.7531 - accuracy: 0.6667\n",
      "Epoch 46/50\n",
      "5/5 [==============================] - 0s 8ms/step - loss: 1.7531 - accuracy: 0.6867\n",
      "Epoch 47/50\n",
      "5/5 [==============================] - 0s 12ms/step - loss: 1.7530 - accuracy: 0.6800\n",
      "Epoch 48/50\n",
      "5/5 [==============================] - 0s 8ms/step - loss: 1.7530 - accuracy: 0.6600\n",
      "Epoch 49/50\n",
      "5/5 [==============================] - 0s 8ms/step - loss: 1.7530 - accuracy: 0.6600\n",
      "Epoch 50/50\n",
      "5/5 [==============================] - 0s 8ms/step - loss: 1.7530 - accuracy: 0.6867\n"
     ]
    },
    {
     "data": {
      "text/plain": [
       "<keras.callbacks.History at 0x29e8c91610>"
      ]
     },
     "execution_count": 186,
     "metadata": {},
     "output_type": "execute_result"
    }
   ],
   "source": [
    "model.fit(X,Y,epochs=50)"
   ]
  },
  {
   "cell_type": "code",
   "execution_count": 187,
   "id": "3b468bd6",
   "metadata": {},
   "outputs": [
    {
     "name": "stdout",
     "output_type": "stream",
     "text": [
      "5/5 [==============================] - 0s 8ms/step - loss: 1.7530 - accuracy: 0.7067\n"
     ]
    },
    {
     "data": {
      "text/plain": [
       "[1.752986192703247, 0.7066666483879089]"
      ]
     },
     "execution_count": 187,
     "metadata": {},
     "output_type": "execute_result"
    }
   ],
   "source": [
    "model.evaluate(X,Y)"
   ]
  },
  {
   "cell_type": "code",
   "execution_count": null,
   "id": "442eec82",
   "metadata": {},
   "outputs": [],
   "source": []
  },
  {
   "cell_type": "code",
   "execution_count": null,
   "id": "b2021847",
   "metadata": {},
   "outputs": [],
   "source": []
  },
  {
   "cell_type": "code",
   "execution_count": null,
   "id": "73e26f59",
   "metadata": {},
   "outputs": [],
   "source": []
  },
  {
   "cell_type": "code",
   "execution_count": null,
   "id": "53e79985",
   "metadata": {},
   "outputs": [],
   "source": []
  },
  {
   "cell_type": "code",
   "execution_count": null,
   "id": "ca66d398",
   "metadata": {},
   "outputs": [],
   "source": []
  },
  {
   "cell_type": "code",
   "execution_count": null,
   "id": "2bc8e157",
   "metadata": {},
   "outputs": [],
   "source": []
  }
 ],
 "metadata": {
  "kernelspec": {
   "display_name": "Python 3 (ipykernel)",
   "language": "python",
   "name": "python3"
  },
  "language_info": {
   "codemirror_mode": {
    "name": "ipython",
    "version": 3
   },
   "file_extension": ".py",
   "mimetype": "text/x-python",
   "name": "python",
   "nbconvert_exporter": "python",
   "pygments_lexer": "ipython3",
   "version": "3.9.7"
  }
 },
 "nbformat": 4,
 "nbformat_minor": 5
}
